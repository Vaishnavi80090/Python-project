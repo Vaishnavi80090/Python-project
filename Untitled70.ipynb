{
  "nbformat": 4,
  "nbformat_minor": 0,
  "metadata": {
    "colab": {
      "provenance": [],
      "authorship_tag": "ABX9TyP1XA0cSWXuCpCkyvEl4hFr",
      "include_colab_link": true
    },
    "kernelspec": {
      "name": "python3",
      "display_name": "Python 3"
    },
    "language_info": {
      "name": "python"
    }
  },
  "cells": [
    {
      "cell_type": "markdown",
      "metadata": {
        "id": "view-in-github",
        "colab_type": "text"
      },
      "source": [
        "<a href=\"https://colab.research.google.com/github/Vaishnavi80090/Python-project/blob/main/Untitled70.ipynb\" target=\"_parent\"><img src=\"https://colab.research.google.com/assets/colab-badge.svg\" alt=\"Open In Colab\"/></a>"
      ]
    },
    {
      "cell_type": "markdown",
      "source": [
        "# **😖  #QUIZ GAME**\n",
        "\n"
      ],
      "metadata": {
        "id": "Gj8ESnZ0sJ9u"
      }
    },
    {
      "cell_type": "code",
      "execution_count": 3,
      "metadata": {
        "colab": {
          "base_uri": "https://localhost:8080/"
        },
        "id": "Vb4HxRZz7gXu",
        "outputId": "367a51c9-9920-47ab-c590-2189872b9e84"
      },
      "outputs": [
        {
          "output_type": "stream",
          "name": "stdout",
          "text": [
            "welcome to the quiz of 9 th class of chemistry?\n",
            "do you want to playyes\n",
            "yes\n",
            "okay let's play\n"
          ]
        }
      ],
      "source": [
        "\n",
        "\n",
        "print(\"welcome to the quiz of 9 th class of chemistry?\")\n",
        "playing=input(\"do you want to play\")\n",
        "print(playing)\n",
        "if playing !=\"yes\":\n",
        "   quit()\n",
        "print(\"okay let's play\")\n",
        "score=0\n"
      ]
    },
    {
      "cell_type": "code",
      "source": [
        "Answer =input(\"In all the three states of water (i.e. ice,liquid and vapour) chemical composition(H2O) of water? \\na-) is very different \\nb-) remain same \\nc-) sometimes same and sometimes different \\nd-) none of the above \" )\n",
        "print(Answer)\n",
        "score=0\n",
        "\n",
        "if Answer.lower() =='b':\n",
        "   print('correct!')\n",
        "   score +=1\n",
        "else:\n",
        "   print(\"incorrect !\")\n",
        "\n",
        "solution =input(\" do you want explanation \\na-) yes \\nb-) no \")\n",
        "\n",
        "if solution.lower() == 'a':\n",
        "   print('in all three states of water (i.e. ice,liquid and vapour) chemical composition(H2O) of water remains the same only the physical state is different ')\n",
        "else:\n",
        "   print(\"good next questions please !!!\")\n",
        "\n",
        "\n",
        "\n",
        "Answer =input(\"which of the following is not the property of gas? \\n a-) Gases have  a definite shape \\n b-) Gases have no definite volume \\n c-) the rate of diffusion of a gas is higher \\n d-) gaseous particles are in a state of random motion \" )\n",
        "print(Answer)\n",
        "\n",
        "if Answer.lower() =='a':\n",
        "  print('correct!')\n",
        "  score +=1\n",
        "else:\n",
        "  print(\"incorrect !\")\n",
        "\n",
        "\n",
        "Solution=input(\"do you want explanation \\n a-) yes \\n b-) no \")\n",
        "\n",
        "if Solution.lower()=='a':\n",
        "  print(\"gas is the state of matter in which the KE  of particle is very high.Gases neither have definite shape nor volume\")\n",
        "else:\n",
        "  print(\"good, move to next question\")\n",
        "\n"
      ],
      "metadata": {
        "colab": {
          "base_uri": "https://localhost:8080/"
        },
        "id": "uQi5utdMKBg_",
        "outputId": "2d5ea80b-44d2-47ba-83d4-63be98437c1a"
      },
      "execution_count": 17,
      "outputs": [
        {
          "output_type": "stream",
          "name": "stdout",
          "text": [
            "In all the three states of water (i.e. ice,liquid and vapour) chemical composition(H2O) of water? \n",
            "a-) is very different \n",
            "b-) remain same \n",
            "c-) sometimes same and sometimes different \n",
            "d-) none of the above b\n",
            "b\n",
            "correct!\n",
            " do you want explanation \n",
            "a-) yes \n",
            "b-) no a\n",
            "in all three states of water (i.e. ice,liquid and vapour) chemical composition(H2O) of water remains the same only the physical state is different \n",
            "which of the following is not the property of gas? \n",
            " a-) Gases have  a definite shape \n",
            " b-) Gases have no definite volume \n",
            " c-) the rate of diffusion of a gas is higher \n",
            " d-) gaseous particles are in a state of random motion a\n",
            "a\n",
            "correct!\n",
            "do you want explanation \n",
            " a-) yes \n",
            " b-) no a\n",
            "gas is the state of matter in which the KE  of particle is very high.Gases neither have definite shape nor volume\n"
          ]
        }
      ]
    },
    {
      "cell_type": "code",
      "source": [
        "print(\"you got \"+ str(score) + \"question correct\")\n",
        "print(\"you got\"+ str((score/2)*100) + \"%\")\n"
      ],
      "metadata": {
        "colab": {
          "base_uri": "https://localhost:8080/"
        },
        "id": "GILvv_jrlWRK",
        "outputId": "afd08a1d-2293-4c66-c3d4-b9388877b5b8"
      },
      "execution_count": 18,
      "outputs": [
        {
          "output_type": "stream",
          "name": "stdout",
          "text": [
            "you got 2question correct\n",
            "you got100.0%\n"
          ]
        }
      ]
    }
  ]
}